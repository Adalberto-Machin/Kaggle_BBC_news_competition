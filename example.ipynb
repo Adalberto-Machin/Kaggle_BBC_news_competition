{
 "cells": [
  {
   "cell_type": "code",
   "execution_count": 1,
   "metadata": {},
   "outputs": [],
   "source": [
    "import pandas as pd\n",
    "import matplotlib.pyplot as plt\n",
    "import numpy as np\n",
    "\n",
    "import pandas as pd\n",
    "from sklearn.feature_extraction.text import TfidfVectorizer\n",
    "import numpy as np\n",
    "from sklearn.decomposition import NMF\n",
    "from sklearn.metrics import accuracy_score, confusion_matrix\n",
    "import itertools\n",
    "\n",
    "df_train = pd.read_csv(\"data/BBC News Train.csv\")\n",
    "df_test = pd.read_csv(\"data/BBC News Test.csv\")\n"
   ]
  },
  {
   "cell_type": "code",
   "execution_count": 2,
   "metadata": {},
   "outputs": [],
   "source": [
    "#encode testing labels\n",
    "id_items, cat_items= df_train.Category.factorize()\n",
    "df_train['category_id'] = id_items\n",
    "# track_item = set()\n",
    "# id_list = [id for id in id_items if id not in track_item and not track_item.add(id)]\n",
    "# track_cat = set()\n",
    "# cat_list = [cat for cat in cat_items if cat not in track_cat and not track_cat.add(cat)]\n",
    "# category_to_id = dict(zip(id_list, track_cat))\n",
    "category_to_id = dict(enumerate(pd.Categorical(cat_items).categories))\n"
   ]
  },
  {
   "cell_type": "code",
   "execution_count": 3,
   "metadata": {},
   "outputs": [
    {
     "data": {
      "text/html": [
       "<div>\n",
       "<style scoped>\n",
       "    .dataframe tbody tr th:only-of-type {\n",
       "        vertical-align: middle;\n",
       "    }\n",
       "\n",
       "    .dataframe tbody tr th {\n",
       "        vertical-align: top;\n",
       "    }\n",
       "\n",
       "    .dataframe thead th {\n",
       "        text-align: right;\n",
       "    }\n",
       "</style>\n",
       "<table border=\"1\" class=\"dataframe\">\n",
       "  <thead>\n",
       "    <tr style=\"text-align: right;\">\n",
       "      <th></th>\n",
       "      <th>ArticleId</th>\n",
       "      <th>Text</th>\n",
       "      <th>Category</th>\n",
       "      <th>category_id</th>\n",
       "    </tr>\n",
       "  </thead>\n",
       "  <tbody>\n",
       "    <tr>\n",
       "      <th>0</th>\n",
       "      <td>1833</td>\n",
       "      <td>worldcom ex-boss launches defence lawyers defe...</td>\n",
       "      <td>business</td>\n",
       "      <td>0</td>\n",
       "    </tr>\n",
       "    <tr>\n",
       "      <th>1</th>\n",
       "      <td>154</td>\n",
       "      <td>german business confidence slides german busin...</td>\n",
       "      <td>business</td>\n",
       "      <td>0</td>\n",
       "    </tr>\n",
       "    <tr>\n",
       "      <th>2</th>\n",
       "      <td>1101</td>\n",
       "      <td>bbc poll indicates economic gloom citizens in ...</td>\n",
       "      <td>business</td>\n",
       "      <td>0</td>\n",
       "    </tr>\n",
       "    <tr>\n",
       "      <th>3</th>\n",
       "      <td>1976</td>\n",
       "      <td>lifestyle  governs mobile choice  faster  bett...</td>\n",
       "      <td>tech</td>\n",
       "      <td>1</td>\n",
       "    </tr>\n",
       "    <tr>\n",
       "      <th>4</th>\n",
       "      <td>917</td>\n",
       "      <td>enron bosses in $168m payout eighteen former e...</td>\n",
       "      <td>business</td>\n",
       "      <td>0</td>\n",
       "    </tr>\n",
       "    <tr>\n",
       "      <th>...</th>\n",
       "      <td>...</td>\n",
       "      <td>...</td>\n",
       "      <td>...</td>\n",
       "      <td>...</td>\n",
       "    </tr>\n",
       "    <tr>\n",
       "      <th>1485</th>\n",
       "      <td>857</td>\n",
       "      <td>double eviction from big brother model caprice...</td>\n",
       "      <td>entertainment</td>\n",
       "      <td>4</td>\n",
       "    </tr>\n",
       "    <tr>\n",
       "      <th>1486</th>\n",
       "      <td>325</td>\n",
       "      <td>dj double act revamp chart show dj duo jk and ...</td>\n",
       "      <td>entertainment</td>\n",
       "      <td>4</td>\n",
       "    </tr>\n",
       "    <tr>\n",
       "      <th>1487</th>\n",
       "      <td>1590</td>\n",
       "      <td>weak dollar hits reuters revenues at media gro...</td>\n",
       "      <td>business</td>\n",
       "      <td>0</td>\n",
       "    </tr>\n",
       "    <tr>\n",
       "      <th>1488</th>\n",
       "      <td>1587</td>\n",
       "      <td>apple ipod family expands market apple has exp...</td>\n",
       "      <td>tech</td>\n",
       "      <td>1</td>\n",
       "    </tr>\n",
       "    <tr>\n",
       "      <th>1489</th>\n",
       "      <td>538</td>\n",
       "      <td>santy worm makes unwelcome visit thousands of ...</td>\n",
       "      <td>tech</td>\n",
       "      <td>1</td>\n",
       "    </tr>\n",
       "  </tbody>\n",
       "</table>\n",
       "<p>1490 rows × 4 columns</p>\n",
       "</div>"
      ],
      "text/plain": [
       "      ArticleId                                               Text  \\\n",
       "0          1833  worldcom ex-boss launches defence lawyers defe...   \n",
       "1           154  german business confidence slides german busin...   \n",
       "2          1101  bbc poll indicates economic gloom citizens in ...   \n",
       "3          1976  lifestyle  governs mobile choice  faster  bett...   \n",
       "4           917  enron bosses in $168m payout eighteen former e...   \n",
       "...         ...                                                ...   \n",
       "1485        857  double eviction from big brother model caprice...   \n",
       "1486        325  dj double act revamp chart show dj duo jk and ...   \n",
       "1487       1590  weak dollar hits reuters revenues at media gro...   \n",
       "1488       1587  apple ipod family expands market apple has exp...   \n",
       "1489        538  santy worm makes unwelcome visit thousands of ...   \n",
       "\n",
       "           Category  category_id  \n",
       "0          business            0  \n",
       "1          business            0  \n",
       "2          business            0  \n",
       "3              tech            1  \n",
       "4          business            0  \n",
       "...             ...          ...  \n",
       "1485  entertainment            4  \n",
       "1486  entertainment            4  \n",
       "1487       business            0  \n",
       "1488           tech            1  \n",
       "1489           tech            1  \n",
       "\n",
       "[1490 rows x 4 columns]"
      ]
     },
     "execution_count": 3,
     "metadata": {},
     "output_type": "execute_result"
    }
   ],
   "source": [
    "category_to_id\n",
    "df_train"
   ]
  },
  {
   "cell_type": "code",
   "execution_count": 4,
   "metadata": {},
   "outputs": [
    {
     "name": "stderr",
     "output_type": "stream",
     "text": [
      "c:\\Users\\machi\\anaconda3\\envs\\ISLP\\lib\\site-packages\\sklearn\\decomposition\\_nmf.py:1742: ConvergenceWarning: Maximum number of iterations 500 reached. Increase it to improve convergence.\n",
      "  warnings.warn(\n"
     ]
    }
   ],
   "source": [
    "tokenizer_model = TfidfVectorizer(sublinear_tf=True, min_df = 3, norm = 'l2', encoding ='latin-1', ngram_range=(1,2),\n",
    "                                              stop_words = 'english')\n",
    "\n",
    "word_model = tokenizer_model.fit_transform(df_train.Text)\n",
    "model_NMF = NMF(n_components=5,init='nndsvd', solver='cd',\n",
    "                random_state=42,alpha_W=0.0, alpha_H=0.01, l1_ratio=0.0, max_iter=500)\n",
    "W = model_NMF.fit_transform(word_model)\n",
    "H = model_NMF.components_"
   ]
  },
  {
   "cell_type": "code",
   "execution_count": 5,
   "metadata": {},
   "outputs": [],
   "source": [
    "# def label_permute_compare(ytdf,yp,n=5):\n",
    "#     \"\"\"\n",
    "#     ytdf: labels dataframe object. These are the true labels\n",
    "#     yp: NMF label prediction output. a numpy array containing the index of\n",
    "#     the label with the highest score from the W matrix in the NMF_execute method\n",
    "#     Returns permuted label order and accuracy. \n",
    "#     Example output: (3, 4, 1, 2, 0), 0.74 \n",
    "#     \"\"\"\n",
    "#     label_permutation = itertools.permutations(range(n))\n",
    "#     unique_labels = ytdf['category_id'].unique()\n",
    "#     #now associate a key of label for each permutation\n",
    "#     best_perm = None\n",
    "#     best_acc = 0\n",
    "#     for perm in label_permutation:\n",
    "#         key = dict(zip(unique_labels, perm))\n",
    "#         #map the key to the ytru data\n",
    "#         ytrue_mapped = ytdf['category_id'].map(key)\n",
    "#         accuracy = accuracy_score(ytrue_mapped, yp)\n",
    "#         if accuracy>best_acc:\n",
    "#             best_acc = accuracy\n",
    "#             best_perm = perm\n",
    "#     return best_perm, best_acc"
   ]
  },
  {
   "cell_type": "code",
   "execution_count": 6,
   "metadata": {},
   "outputs": [],
   "source": [
    "def label_permute_compare(ytdf, yp, n=5):\n",
    "    label_permutation = itertools.permutations(range(n))\n",
    "    unique_labels = ytdf['category_id'].unique()\n",
    "    \n",
    "    best_perm = None\n",
    "    best_acc = 0\n",
    "    for perm in label_permutation:\n",
    "        # Create mapping from predicted cluster IDs to true category IDs\n",
    "        key = dict(zip(range(n), perm))  # Map cluster 0->perm[0], cluster 1->perm[1], etc.\n",
    "        \n",
    "        # Map the predicted labels using this permutation\n",
    "        yp_mapped = pd.Series(yp).map(key)  # Convert to Series for .map() method\n",
    "        \n",
    "        accuracy = accuracy_score(ytdf['category_id'], yp_mapped)\n",
    "        if accuracy > best_acc:\n",
    "            best_acc = accuracy\n",
    "            best_perm = perm\n",
    "    return best_perm, best_acc"
   ]
  },
  {
   "cell_type": "code",
   "execution_count": 7,
   "metadata": {},
   "outputs": [
    {
     "name": "stdout",
     "output_type": "stream",
     "text": [
      "The best permutation is (1, 3, 2, 4, 0),      \n",
      " which corresponds to ['entertainment', 'sport', 'politics', 'tech', 'business']      \n",
      " and has an accuracy of 0.9516778523489933\n"
     ]
    }
   ],
   "source": [
    "predicted_topics = W.argmax(axis=1)\n",
    "perm, acc = label_permute_compare(df_train, predicted_topics)\n",
    "\n",
    "print(f'The best permutation is {perm},\\\n",
    "      \\n which corresponds to {[category_to_id[it] for it in perm]}\\\n",
    "      \\n and has an accuracy of {acc}')"
   ]
  },
  {
   "cell_type": "code",
   "execution_count": 8,
   "metadata": {},
   "outputs": [],
   "source": [
    "test_instance = tokenizer_model.transform(df_test.Text)"
   ]
  },
  {
   "cell_type": "code",
   "execution_count": 9,
   "metadata": {},
   "outputs": [],
   "source": [
    "W_test = model_NMF.transform(test_instance)"
   ]
  },
  {
   "cell_type": "code",
   "execution_count": 10,
   "metadata": {},
   "outputs": [],
   "source": [
    "predicted_topics = W_test.argmax(axis=1)"
   ]
  },
  {
   "cell_type": "code",
   "execution_count": 11,
   "metadata": {},
   "outputs": [],
   "source": [
    "# Apply the same mapping logic as in the training evaluation\n",
    "cluster_to_category = dict(zip(range(5), perm))  # {0: 1, 1: 3, 2: 2, 3: 4, 4: 0}\n",
    "final_topic_ids = [cluster_to_category[cluster_id] for cluster_id in predicted_topics]\n",
    "\n",
    "# Then convert to category names\n",
    "results = pd.DataFrame()\n",
    "results['ArticleId'] = df_test['ArticleId'].copy()\n",
    "results['Category'] = [category_to_id[cat_id] for cat_id in final_topic_ids]\n",
    "results.to_csv('BBC NEW Solution.csv', index=False)"
   ]
  }
 ],
 "metadata": {
  "kernelspec": {
   "display_name": "ISLP",
   "language": "python",
   "name": "python3"
  },
  "language_info": {
   "codemirror_mode": {
    "name": "ipython",
    "version": 3
   },
   "file_extension": ".py",
   "mimetype": "text/x-python",
   "name": "python",
   "nbconvert_exporter": "python",
   "pygments_lexer": "ipython3",
   "version": "3.9.19"
  }
 },
 "nbformat": 4,
 "nbformat_minor": 2
}
